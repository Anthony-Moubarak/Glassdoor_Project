{
 "cells": [
  {
   "cell_type": "markdown",
   "metadata": {},
   "source": [
    "# Data Cleaning"
   ]
  },
  {
   "cell_type": "code",
   "execution_count": 1,
   "metadata": {},
   "outputs": [],
   "source": [
    "import pandas as pd\n",
    "import numpy as np\n",
    "\n",
    "\n",
    "df = pd.read_csv('/Users/anthonymoubarak/Desktop/Ken Jee Project /glassdoor_jobs.csv')"
   ]
  },
  {
   "cell_type": "code",
   "execution_count": 2,
   "metadata": {},
   "outputs": [
    {
     "name": "stderr",
     "output_type": "stream",
     "text": [
      "/Users/anthonymoubarak/opt/anaconda3/lib/python3.7/site-packages/ipykernel_launcher.py:15: SettingWithCopyWarning: \n",
      "A value is trying to be set on a copy of a slice from a DataFrame\n",
      "\n",
      "See the caveats in the documentation: http://pandas.pydata.org/pandas-docs/stable/user_guide/indexing.html#returning-a-view-versus-a-copy\n",
      "  from ipykernel import kernelapp as app\n",
      "/Users/anthonymoubarak/opt/anaconda3/lib/python3.7/site-packages/ipykernel_launcher.py:26: SettingWithCopyWarning: \n",
      "A value is trying to be set on a copy of a slice from a DataFrame\n",
      "\n",
      "See the caveats in the documentation: http://pandas.pydata.org/pandas-docs/stable/user_guide/indexing.html#returning-a-view-versus-a-copy\n"
     ]
    }
   ],
   "source": [
    "# Defining a function that removes everything Unnecessary after the K\n",
    "\n",
    "def return_number(x):\n",
    "    if 'K' in x:\n",
    "        end_index = x.find('K')\n",
    "        return x[0:(end_index + 1)]\n",
    "    else:\n",
    "        return x\n",
    "\n",
    "\n",
    "# Modifying the Salary Estimate column \n",
    "\n",
    "\n",
    "for i in np.arange(0 , len(df['Salary Estimate'])):\n",
    "    df['Salary Estimate'][i] = df['Salary Estimate'][i].split(\" \" , 1)[0]\n",
    "\n",
    "\n",
    "for i in np.arange(0 , len(df['Salary Estimate'])):\n",
    "    if df['Salary Estimate'][i] not in (\"-1\" , \"Employer\" , \"150(Employer\"):\n",
    "        for j in np.arange(0,2):\n",
    "            if j == 0:\n",
    "                x = int(return_number(df['Salary Estimate'][i].split('-')[j]).replace('$' , '').replace('K' , ''))\n",
    "            else:\n",
    "                y = int(return_number(df['Salary Estimate'][i].split('-')[j]).replace('$' , '').replace('K' , ''))\n",
    "        \n",
    "        df['Salary Estimate'][i] = (x+y)/2\n",
    "    \n",
    "        \n",
    "\n",
    "# Rename Salary Estimate column\n",
    "\n",
    "df = df.rename(columns = {'Salary Estimate' : 'Average Salary (K $)'})\n"
   ]
  },
  {
   "cell_type": "code",
   "execution_count": 3,
   "metadata": {},
   "outputs": [],
   "source": [
    "# Eliminating the rows with '-1' and 'Employer' as salary entry\n",
    "\n",
    "df = df[(df['Average Salary (K $)'] != \"-1\" ) &  (df['Average Salary (K $)'] != \"Employer\" ) ]"
   ]
  },
  {
   "cell_type": "code",
   "execution_count": 4,
   "metadata": {},
   "outputs": [],
   "source": [
    "# Company Name\n",
    "\n",
    "df['Company Name'] = df['Company Name'].apply(lambda x: x.split('\\n')[0])"
   ]
  },
  {
   "cell_type": "code",
   "execution_count": 5,
   "metadata": {},
   "outputs": [],
   "source": [
    "# Location and Headquarters\n",
    "df['Location'] = df['Location'].apply(lambda x: x.split(',')[1])\n",
    "df['Headquarters'] = df['Headquarters'].apply(lambda x: x.split(',')[1])\n",
    "df['Same Location'] = df.apply(lambda x: 1 if x['Location'] == x['Headquarters'] else 0 , axis = 1)\n"
   ]
  },
  {
   "cell_type": "code",
   "execution_count": 6,
   "metadata": {},
   "outputs": [],
   "source": [
    "# Company Age\n",
    "\n",
    "df['Company Age (Years)'] = 2021 - df['Founded']"
   ]
  },
  {
   "cell_type": "code",
   "execution_count": 7,
   "metadata": {},
   "outputs": [],
   "source": [
    "# Check for Python, Rstudio, spark, excel in job descriptions\n",
    "df['Python'] = df['Job Description'].apply(lambda x: 1 if 'python' in x.lower() else 0)\n",
    "df['Spark'] = df['Job Description'].apply(lambda x: 1 if 'spark' in x.lower() else 0)\n",
    "df['Excel'] = df['Job Description'].apply(lambda x: 1 if 'excel' in x.lower() else 0)"
   ]
  },
  {
   "cell_type": "code",
   "execution_count": 8,
   "metadata": {},
   "outputs": [
    {
     "data": {
      "text/html": [
       "<div>\n",
       "<style scoped>\n",
       "    .dataframe tbody tr th:only-of-type {\n",
       "        vertical-align: middle;\n",
       "    }\n",
       "\n",
       "    .dataframe tbody tr th {\n",
       "        vertical-align: top;\n",
       "    }\n",
       "\n",
       "    .dataframe thead th {\n",
       "        text-align: right;\n",
       "    }\n",
       "</style>\n",
       "<table border=\"1\" class=\"dataframe\">\n",
       "  <thead>\n",
       "    <tr style=\"text-align: right;\">\n",
       "      <th></th>\n",
       "      <th>Unnamed: 0</th>\n",
       "      <th>Job Title</th>\n",
       "      <th>Average Salary (K $)</th>\n",
       "      <th>Job Description</th>\n",
       "      <th>Rating</th>\n",
       "      <th>Company Name</th>\n",
       "      <th>Location</th>\n",
       "      <th>Headquarters</th>\n",
       "      <th>Size</th>\n",
       "      <th>Founded</th>\n",
       "      <th>Type of ownership</th>\n",
       "      <th>Industry</th>\n",
       "      <th>Sector</th>\n",
       "      <th>Revenue</th>\n",
       "      <th>Competitors</th>\n",
       "      <th>Same Location</th>\n",
       "      <th>Company Age (Years)</th>\n",
       "      <th>Python</th>\n",
       "      <th>Spark</th>\n",
       "      <th>Excel</th>\n",
       "    </tr>\n",
       "  </thead>\n",
       "  <tbody>\n",
       "    <tr>\n",
       "      <td>0</td>\n",
       "      <td>0</td>\n",
       "      <td>Data Scientist</td>\n",
       "      <td>72</td>\n",
       "      <td>Data Scientist\\nLocation: Albuquerque, NM\\nEdu...</td>\n",
       "      <td>3.8</td>\n",
       "      <td>Tecolote Research</td>\n",
       "      <td>NM</td>\n",
       "      <td>CA</td>\n",
       "      <td>501 to 1000 employees</td>\n",
       "      <td>1973</td>\n",
       "      <td>Company - Private</td>\n",
       "      <td>Aerospace &amp; Defense</td>\n",
       "      <td>Aerospace &amp; Defense</td>\n",
       "      <td>$50 to $100 million (USD)</td>\n",
       "      <td>-1</td>\n",
       "      <td>0</td>\n",
       "      <td>48</td>\n",
       "      <td>1</td>\n",
       "      <td>0</td>\n",
       "      <td>1</td>\n",
       "    </tr>\n",
       "    <tr>\n",
       "      <td>1</td>\n",
       "      <td>1</td>\n",
       "      <td>Healthcare Data Scientist</td>\n",
       "      <td>87.5</td>\n",
       "      <td>What You Will Do:\\n\\nI. General Summary\\n\\nThe...</td>\n",
       "      <td>3.4</td>\n",
       "      <td>University of Maryland Medical System</td>\n",
       "      <td>MD</td>\n",
       "      <td>MD</td>\n",
       "      <td>10000+ employees</td>\n",
       "      <td>1984</td>\n",
       "      <td>Other Organization</td>\n",
       "      <td>Health Care Services &amp; Hospitals</td>\n",
       "      <td>Health Care</td>\n",
       "      <td>$2 to $5 billion (USD)</td>\n",
       "      <td>-1</td>\n",
       "      <td>1</td>\n",
       "      <td>37</td>\n",
       "      <td>1</td>\n",
       "      <td>0</td>\n",
       "      <td>0</td>\n",
       "    </tr>\n",
       "    <tr>\n",
       "      <td>2</td>\n",
       "      <td>2</td>\n",
       "      <td>Data Scientist</td>\n",
       "      <td>85</td>\n",
       "      <td>KnowBe4, Inc. is a high growth information sec...</td>\n",
       "      <td>4.8</td>\n",
       "      <td>KnowBe4</td>\n",
       "      <td>FL</td>\n",
       "      <td>FL</td>\n",
       "      <td>501 to 1000 employees</td>\n",
       "      <td>2010</td>\n",
       "      <td>Company - Private</td>\n",
       "      <td>Security Services</td>\n",
       "      <td>Business Services</td>\n",
       "      <td>$100 to $500 million (USD)</td>\n",
       "      <td>-1</td>\n",
       "      <td>1</td>\n",
       "      <td>11</td>\n",
       "      <td>1</td>\n",
       "      <td>1</td>\n",
       "      <td>1</td>\n",
       "    </tr>\n",
       "    <tr>\n",
       "      <td>3</td>\n",
       "      <td>3</td>\n",
       "      <td>Data Scientist</td>\n",
       "      <td>76.5</td>\n",
       "      <td>*Organization and Job ID**\\nJob ID: 310709\\n\\n...</td>\n",
       "      <td>3.8</td>\n",
       "      <td>PNNL</td>\n",
       "      <td>WA</td>\n",
       "      <td>WA</td>\n",
       "      <td>1001 to 5000 employees</td>\n",
       "      <td>1965</td>\n",
       "      <td>Government</td>\n",
       "      <td>Energy</td>\n",
       "      <td>Oil, Gas, Energy &amp; Utilities</td>\n",
       "      <td>$500 million to $1 billion (USD)</td>\n",
       "      <td>Oak Ridge National Laboratory, National Renewa...</td>\n",
       "      <td>1</td>\n",
       "      <td>56</td>\n",
       "      <td>1</td>\n",
       "      <td>0</td>\n",
       "      <td>0</td>\n",
       "    </tr>\n",
       "    <tr>\n",
       "      <td>4</td>\n",
       "      <td>4</td>\n",
       "      <td>Data Scientist</td>\n",
       "      <td>114.5</td>\n",
       "      <td>Data Scientist\\nAffinity Solutions / Marketing...</td>\n",
       "      <td>2.9</td>\n",
       "      <td>Affinity Solutions</td>\n",
       "      <td>NY</td>\n",
       "      <td>NY</td>\n",
       "      <td>51 to 200 employees</td>\n",
       "      <td>1998</td>\n",
       "      <td>Company - Private</td>\n",
       "      <td>Advertising &amp; Marketing</td>\n",
       "      <td>Business Services</td>\n",
       "      <td>Unknown / Non-Applicable</td>\n",
       "      <td>Commerce Signals, Cardlytics, Yodlee</td>\n",
       "      <td>1</td>\n",
       "      <td>23</td>\n",
       "      <td>1</td>\n",
       "      <td>0</td>\n",
       "      <td>1</td>\n",
       "    </tr>\n",
       "  </tbody>\n",
       "</table>\n",
       "</div>"
      ],
      "text/plain": [
       "   Unnamed: 0                  Job Title Average Salary (K $)  \\\n",
       "0           0             Data Scientist                   72   \n",
       "1           1  Healthcare Data Scientist                 87.5   \n",
       "2           2             Data Scientist                   85   \n",
       "3           3             Data Scientist                 76.5   \n",
       "4           4             Data Scientist                114.5   \n",
       "\n",
       "                                     Job Description  Rating  \\\n",
       "0  Data Scientist\\nLocation: Albuquerque, NM\\nEdu...     3.8   \n",
       "1  What You Will Do:\\n\\nI. General Summary\\n\\nThe...     3.4   \n",
       "2  KnowBe4, Inc. is a high growth information sec...     4.8   \n",
       "3  *Organization and Job ID**\\nJob ID: 310709\\n\\n...     3.8   \n",
       "4  Data Scientist\\nAffinity Solutions / Marketing...     2.9   \n",
       "\n",
       "                            Company Name Location Headquarters  \\\n",
       "0                      Tecolote Research       NM           CA   \n",
       "1  University of Maryland Medical System       MD           MD   \n",
       "2                                KnowBe4       FL           FL   \n",
       "3                                   PNNL       WA           WA   \n",
       "4                     Affinity Solutions       NY           NY   \n",
       "\n",
       "                     Size  Founded   Type of ownership  \\\n",
       "0   501 to 1000 employees     1973   Company - Private   \n",
       "1        10000+ employees     1984  Other Organization   \n",
       "2   501 to 1000 employees     2010   Company - Private   \n",
       "3  1001 to 5000 employees     1965          Government   \n",
       "4     51 to 200 employees     1998   Company - Private   \n",
       "\n",
       "                           Industry                        Sector  \\\n",
       "0               Aerospace & Defense           Aerospace & Defense   \n",
       "1  Health Care Services & Hospitals                   Health Care   \n",
       "2                 Security Services             Business Services   \n",
       "3                            Energy  Oil, Gas, Energy & Utilities   \n",
       "4           Advertising & Marketing             Business Services   \n",
       "\n",
       "                            Revenue  \\\n",
       "0         $50 to $100 million (USD)   \n",
       "1            $2 to $5 billion (USD)   \n",
       "2        $100 to $500 million (USD)   \n",
       "3  $500 million to $1 billion (USD)   \n",
       "4          Unknown / Non-Applicable   \n",
       "\n",
       "                                         Competitors  Same Location  \\\n",
       "0                                                 -1              0   \n",
       "1                                                 -1              1   \n",
       "2                                                 -1              1   \n",
       "3  Oak Ridge National Laboratory, National Renewa...              1   \n",
       "4               Commerce Signals, Cardlytics, Yodlee              1   \n",
       "\n",
       "   Company Age (Years)  Python  Spark  Excel  \n",
       "0                   48       1      0      1  \n",
       "1                   37       1      0      0  \n",
       "2                   11       1      1      1  \n",
       "3                   56       1      0      0  \n",
       "4                   23       1      0      1  "
      ]
     },
     "execution_count": 8,
     "metadata": {},
     "output_type": "execute_result"
    }
   ],
   "source": [
    "df.head()"
   ]
  },
  {
   "cell_type": "code",
   "execution_count": 26,
   "metadata": {},
   "outputs": [
    {
     "data": {
      "text/plain": [
       "na        532\n",
       "Senior    190\n",
       "Junior      3\n",
       "Name: Position Level, dtype: int64"
      ]
     },
     "execution_count": 26,
     "metadata": {},
     "output_type": "execute_result"
    }
   ],
   "source": [
    "#Cleaning the Job Title column using a function i created \n",
    "#Creating a column that sets whether or not the poistion is junior or senior\n",
    "\n",
    "\n",
    "\n",
    "def title_simplifier(title):\n",
    "    if 'data scientist' in title.lower():\n",
    "        return 'Data Scientist'\n",
    "    elif 'data engineer' in title.lower():\n",
    "        return 'Data Engineer'\n",
    "    elif 'data analyst' in title.lower():\n",
    "        return 'Data Analyst'\n",
    "    elif 'manager' in title.lower():\n",
    "        return 'Manager'\n",
    "    elif 'machine learning' in title.lower():\n",
    "        return 'MLE'\n",
    "    elif 'director' in title.lower():\n",
    "        return 'Director'\n",
    "    else:\n",
    "        return 'na'\n",
    "\n",
    "\n",
    "def seniority(title):\n",
    "    if 'senior' in title.lower() or  'sr' in title.lower() or 'principle' in title.lower() or 'lead' in title.lower():\n",
    "        return 'Senior'\n",
    "    elif 'junior' in title.lower()  or  'jr' in title.lower():\n",
    "        return 'Junior'\n",
    "    else:\n",
    "        return 'na'\n",
    "    \n",
    "    \n",
    "\n",
    "df['Job Simplified'] = df['Job Title'].apply(title_simplifier)\n",
    "df['Position Level'] = df['Job Title'].apply(seniority)\n",
    "df['Job Simplified'].value_counts()\n",
    "df['Position Level'].value_counts()"
   ]
  },
  {
   "cell_type": "code",
   "execution_count": 48,
   "metadata": {},
   "outputs": [],
   "source": [
    "#Rename Los Angeled to LA in the Location column\n",
    "\n",
    "df['Location'] = df['Location'].apply(lambda x: x.strip() if x.strip().lower() != 'los angeles' else 'CA')"
   ]
  },
  {
   "cell_type": "code",
   "execution_count": 60,
   "metadata": {},
   "outputs": [],
   "source": [
    "#Get the job description length \n",
    "df['Job Description Length'] = df['Job Description'].apply(lambda x:  len(x))"
   ]
  },
  {
   "cell_type": "code",
   "execution_count": 76,
   "metadata": {},
   "outputs": [],
   "source": [
    "#Creating a column that specifies the number of competitors \n",
    "df['Number of competitors'] = df['Competitors'].apply(lambda x: len(x.split(',')) if x != '-1' else 0)"
   ]
  },
  {
   "cell_type": "code",
   "execution_count": 77,
   "metadata": {},
   "outputs": [
    {
     "data": {
      "text/plain": [
       "0    443\n",
       "3    228\n",
       "2     41\n",
       "1     12\n",
       "4      1\n",
       "Name: Number of competitors, dtype: int64"
      ]
     },
     "execution_count": 77,
     "metadata": {},
     "output_type": "execute_result"
    }
   ],
   "source": [
    "df['Number of competitors'].value_counts()"
   ]
  },
  {
   "cell_type": "code",
   "execution_count": 81,
   "metadata": {},
   "outputs": [],
   "source": [
    "#Saving our cleaned dataframe into a csv to use later on in our analysis\n",
    "\n",
    "df.to_csv('cleaned_glassdoor_data.csv')"
   ]
  },
  {
   "cell_type": "code",
   "execution_count": null,
   "metadata": {},
   "outputs": [],
   "source": []
  }
 ],
 "metadata": {
  "kernelspec": {
   "display_name": "Python 3",
   "language": "python",
   "name": "python3"
  },
  "language_info": {
   "codemirror_mode": {
    "name": "ipython",
    "version": 3
   },
   "file_extension": ".py",
   "mimetype": "text/x-python",
   "name": "python",
   "nbconvert_exporter": "python",
   "pygments_lexer": "ipython3",
   "version": "3.7.4"
  }
 },
 "nbformat": 4,
 "nbformat_minor": 2
}
